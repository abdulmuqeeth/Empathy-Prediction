{
 "cells": [
  {
   "cell_type": "code",
   "execution_count": 1145,
   "metadata": {},
   "outputs": [],
   "source": [
    "import numpy as np\n",
    "from scipy import stats\n",
    "from sklearn.neighbors import KNeighborsClassifier\n",
    "from sklearn.model_selection import StratifiedKFold\n",
    "from sklearn.feature_selection import RFECV\n",
    "from itertools import combinations \n",
    "from sklearn.svm import SVC\n",
    "import matplotlib.pyplot as plt\n",
    "from sklearn import tree\n",
    "import pickle\n",
    "from scipy import stats\n",
    "from tempfile import TemporaryFile\n",
    "import csv"
   ]
  },
  {
   "cell_type": "code",
   "execution_count": 1146,
   "metadata": {},
   "outputs": [],
   "source": [
    "def preprocess(data):\n",
    "\n",
    "    smoking_index = data[0].index('Smoking')\n",
    "    alcohol_index = data[0].index('Alcohol')\n",
    "    punctuality_index = data[0].index('Punctuality')\n",
    "    lying_index = data[0].index('Lying')\n",
    "    internet_usage_index = data[0].index('Internet usage')\n",
    "    gender_index = data[0].index('Gender')\n",
    "    hand_index = data[0].index('Left - right handed')\n",
    "    education_index = data[0].index('Education')\n",
    "    child_index = data[0].index('Only child')\n",
    "    village_index = data[0].index('Village - town')\n",
    "    house_index = data[0].index('House - block of flats')\n",
    "    empathy_index = data[0].index('Empathy')\n",
    "\n",
    "    for i in range(1, len(data)):\n",
    "        if(data[i][empathy_index]=='1' or data[i][empathy_index]=='2' or data[i][empathy_index]=='3'):\n",
    "            data[i][empathy_index]='0'\n",
    "        elif(data[i][empathy_index]=='4' or data[i][empathy_index]=='5'):\n",
    "            data[i][empathy_index]='1'\n",
    "\n",
    "        if(data[i][smoking_index]=='never smoked'):\n",
    "            data[i][smoking_index] = 0\n",
    "        elif(data[i][smoking_index]=='tried smoking'):\n",
    "            data[i][smoking_index] = 1\n",
    "        elif(data[i][smoking_index]=='former smoker'):\n",
    "            data[i][smoking_index] = 2\n",
    "        elif(data[i][smoking_index]=='current smoker'):\n",
    "            data[i][smoking_index] = 3\n",
    "\n",
    "        if(data[i][alcohol_index]=='never'):\n",
    "            data[i][alcohol_index] =0\n",
    "        elif(data[i][alcohol_index]=='social drinker'):\n",
    "            data[i][alcohol_index] =1\n",
    "        elif(data[i][alcohol_index]=='drink a lot'):\n",
    "            data[i][alcohol_index]=2\n",
    "\n",
    "        if(data[i][punctuality_index]=='i am often early'):\n",
    "            data[i][punctuality_index] =0\n",
    "        elif(data[i][punctuality_index]=='i am always on time'):\n",
    "            data[i][punctuality_index] =1\n",
    "        elif(data[i][punctuality_index]=='i am often running late'):\n",
    "            data[i][punctuality_index]=2\n",
    "\n",
    "        if(data[i][lying_index]=='never'):\n",
    "            data[i][lying_index] =0\n",
    "        elif(data[i][lying_index]=='only to avoid hurting someone'):\n",
    "            data[i][lying_index] =1\n",
    "        elif(data[i][lying_index]=='sometimes'):\n",
    "            data[i][lying_index]=2\n",
    "        elif(data[i][lying_index]=='everytime it suits me'):\n",
    "            data[i][lying_index]=3\n",
    "\n",
    "        if(data[i][internet_usage_index]=='no time at all'):\n",
    "            data[i][internet_usage_index] =0\n",
    "        elif(data[i][internet_usage_index]=='less than an hour a day'):\n",
    "            data[i][internet_usage_index] =1\n",
    "        elif(data[i][internet_usage_index]=='few hours a day'):\n",
    "            data[i][internet_usage_index]=2\n",
    "        elif(data[i][internet_usage_index]=='most of the day'):\n",
    "            data[i][internet_usage_index] =0\n",
    "\n",
    "        if(data[i][gender_index]=='male'):\n",
    "            data[i][gender_index] =0\n",
    "        elif(data[i][gender_index]=='female'):\n",
    "            data[i][gender_index] =1\n",
    "\n",
    "        if(data[i][hand_index]=='left handed'):\n",
    "            data[i][hand_index] =0\n",
    "        elif(data[i][hand_index]=='right handed'):\n",
    "            data[i][hand_index] =1\n",
    "\n",
    "        if(data[i][education_index]=='currently a primary school pupil'):\n",
    "            data[i][education_index] =0\n",
    "        elif(data[i][education_index]=='primary school'):\n",
    "            data[i][education_index] =1\n",
    "        elif(data[i][education_index]=='secondary school'):\n",
    "            data[i][education_index] =2\n",
    "        elif(data[i][education_index]=='college/bachelor degree'):\n",
    "            data[i][education_index]=3\n",
    "        elif(data[i][education_index]=='masters degree'):\n",
    "            data[i][education_index] =4\n",
    "        elif(data[i][education_index]=='doctorate degree'):\n",
    "            data[i][education_index] =5\n",
    "\n",
    "\n",
    "        if(data[i][child_index]=='no'):\n",
    "            data[i][child_index] =0\n",
    "        elif(data[i][child_index]=='yes'):\n",
    "            data[i][child_index] =1\n",
    "\n",
    "        if(data[i][village_index]=='city'):\n",
    "            data[i][village_index] =0\n",
    "        elif(data[i][village_index]=='village'):\n",
    "            data[i][village_index] =1\n",
    "\n",
    "        if(data[i][house_index]=='block of flats'):\n",
    "            data[i][house_index] =0\n",
    "        elif(data[i][house_index]=='house/bungalow'):\n",
    "            data[i][house_index] =1\n",
    "\n",
    "\n",
    "def most_freq_classifier(X,Y):\n",
    "    most_freq = stats.mode(Y)[0][0]\n",
    "    print(most_freq)\n",
    "    if (most_freq ==0.0):\n",
    "        predicted = np.zeros(len(Y))\n",
    "    elif(most_freq==1.0):\n",
    "        predicted = np.ones(len(Y))\n",
    "\n",
    "    print('Accuracy :',np.mean(predicted==Y))\n",
    "\n",
    "def normalize_data(data):\n",
    "\n",
    "    data = data.T\n",
    "    for i in range(len(data)):\n",
    "        min = np.amin(data[i])\n",
    "        max = np.amax(data[i])\n",
    "        #print(min)\n",
    "        #print(max)\n",
    "        for j in range(len(data[0])):\n",
    "            data[i][j] = (data[i][j]-min)/(max-min)\n",
    "    \n",
    "    data = data.T\n",
    "\n",
    "\n",
    "\n",
    "def main1():\n",
    "    print('Preprocessing Module')\n",
    "\n",
    "    print('parsing csv file')\n",
    "    data=[]\n",
    "    with open('responses.csv') as csv_file:\n",
    "        csv_reader = csv.reader(csv_file, quotechar='\"',delimiter=',',quoting=csv.QUOTE_ALL,skipinitialspace=True)\n",
    "        for row in csv_reader:\n",
    "            data.append(row)\n",
    "\n",
    "    empathy_index = data[0].index('Empathy')\n",
    "    print('Index of empathy column',empathy_index)\n",
    "\n",
    "    print('Number of samples :',len(data))\n",
    "    print('Number of attributes :',len(data[0]))\n",
    "    \n",
    "    print('Converting categorical data to numbers')\n",
    "    preprocess(data)\n",
    "\n",
    "    print('Finding mode of all columns')\n",
    "    mode_array = stats.mode(data)[0][0]\n",
    "\n",
    "    print('Filling empty cells with mode of respective columns')\n",
    "    for i in range(len(data)):\n",
    "        for j in range(len(data[0])):\n",
    "            if(data[i][j]==''):\n",
    "                data[i][j]=mode_array[j]\n",
    "\n",
    "\n",
    "    data = np.array(data[1:]).astype(np.float)\n",
    "\n",
    "    #Normalizing the data\n",
    "    print('normalizing the data to scale between 0 and 1')\n",
    "    normalize_data(data)\n",
    "    print('data normalized')\n",
    "\n",
    "    print('Shuffling the data')\n",
    "    np.random.seed(4650)\n",
    "    np.random.shuffle(data)\n",
    "    \n",
    "    data2 = np.copy(data)\n",
    "    data2 = data2.T\n",
    "\n",
    "    print('Splitting Empathy column as Y and rest of data as X')\n",
    "    Y = data2[empathy_index]\n",
    "    X = np.delete(data,(empathy_index), axis=1)\n",
    "\n",
    "    #print('X :',X)\n",
    "    #print('Y :',Y)\n",
    "\n",
    "    print('preprocessing complete')\t\t\n",
    "\n",
    "    #print('Using most frequent classifier')\n",
    "    #most_freq_classifier(X,Y)\t\t\n",
    "\n",
    "    print('splitting data into train and test (80:20)')\n",
    "\n",
    "    X_train = X[:int(len(X)*0.8)]\n",
    "    Y_train = Y[:int(len(Y)*0.8)]\n",
    "\n",
    "    #X_dev = X[int(len(X)*0.6):int(len(X)*0.8)]\n",
    "    #Y_dev = Y[int(len(Y)*0.6):int(len(Y)*0.8)]\n",
    "\n",
    "    X_test = X[int(len(X)*0.8):]\n",
    "    Y_test = Y[int(len(Y)*0.8):]\n",
    "\n",
    "    np.save('TrainX.npy', X_train)\n",
    "    np.save('TrainY.npy', Y_train)\n",
    "    #np.save('DevX.npy', X_dev)\n",
    "    #np.save('DevY.npy', Y_dev)\n",
    "    np.save('TestX.npy', X_test)\n",
    "    np.save('TestY.npy', Y_test)\n",
    "\n",
    "    print(len(X_train),len(X_test))\n",
    "    print(len(Y_train),len(Y_test))"
   ]
  },
  {
   "cell_type": "code",
   "execution_count": 1147,
   "metadata": {},
   "outputs": [
    {
     "name": "stdout",
     "output_type": "stream",
     "text": [
      "Preprocessing Module\n",
      "parsing csv file\n",
      "Index of empathy column 94\n",
      "Number of samples : 1011\n",
      "Number of attributes : 150\n",
      "Converting categorical data to numbers\n",
      "Finding mode of all columns\n"
     ]
    },
    {
     "name": "stderr",
     "output_type": "stream",
     "text": [
      "/anaconda3/envs/cs412/lib/python3.6/site-packages/scipy/stats/stats.py:245: RuntimeWarning: The input array could not be properly checked for nan values. nan values will be ignored.\n",
      "  \"values. nan values will be ignored.\", RuntimeWarning)\n"
     ]
    },
    {
     "name": "stdout",
     "output_type": "stream",
     "text": [
      "Filling empty cells with mode of respective columns\n",
      "normalizing the data to scale between 0 and 1\n",
      "data normalized\n",
      "Shuffling the data\n",
      "Splitting Empathy column as Y and rest of data as X\n",
      "preprocessing complete\n",
      "splitting data into train and test (80:20)\n",
      "808 202\n",
      "808 202\n"
     ]
    }
   ],
   "source": [
    "main1()"
   ]
  },
  {
   "cell_type": "code",
   "execution_count": 1148,
   "metadata": {},
   "outputs": [
    {
     "name": "stdout",
     "output_type": "stream",
     "text": [
      "Loading Train and Test data\n",
      "Splitting Train data into Train and Dev data\n"
     ]
    }
   ],
   "source": [
    "print('Loading Train and Test data')\n",
    "Xtr = np.load('TrainX.npy')\n",
    "Ytr = np.load('TrainY.npy')\n",
    "Xtest = np.load('TestX.npy')\n",
    "Ytest = np.load('TestY.npy')\n",
    "\n",
    "\n",
    "#Splitting Train data into Train and Dev data\n",
    "print('Splitting Train data into Train and Dev data')\n",
    "Xtrain = Xtr[:int(0.8*len(Xtr))]\n",
    "Ytrain = Ytr[:int(0.8*len(Ytr))]\n",
    "Xdev = Xtr[int(0.8*len(Xtr)):]\n",
    "Ydev = Ytr[int(0.8*len(Ytr)):]\n",
    "\n"
   ]
  },
  {
   "cell_type": "code",
   "execution_count": 1149,
   "metadata": {},
   "outputs": [],
   "source": [
    "#Most frequent classifier\n",
    "def most_freq_classifier(Xtr,Ytr,Xtest,Ytest):\n",
    "    most_freq = stats.mode(Ytr)[0][0]\n",
    "    if (most_freq ==0.0):\n",
    "        prediction = np.zeros(len(Ytest))\n",
    "    elif(most_freq==1.0):\n",
    "        prediction = np.ones(len(Ytest))\n",
    "    return prediction\n",
    "\n",
    "\n"
   ]
  },
  {
   "cell_type": "code",
   "execution_count": 1150,
   "metadata": {},
   "outputs": [
    {
     "name": "stdout",
     "output_type": "stream",
     "text": [
      "Using Most Frequent Classifier as Baseline Classifier\n",
      "Predicting using Most Frequent Classifier\n",
      "Accuracy of Most Frequent Classifier  on Test Data :  0.6881188118811881\n"
     ]
    }
   ],
   "source": [
    "#Baseline classifier\n",
    "print('Using Most Frequent Classifier as Baseline Classifier')\n",
    "print('Predicting using Most Frequent Classifier')\n",
    "prediction = most_freq_classifier(Xtr,Ytr,Xtest,Ytest)\n",
    "accuracy = np.mean(prediction==Ytest)\n",
    "print('Accuracy of Most Frequent Classifier  on Test Data : ', accuracy)"
   ]
  },
  {
   "cell_type": "code",
   "execution_count": 1151,
   "metadata": {},
   "outputs": [],
   "source": [
    "#Feature selector method\n",
    "#Finds features to be deleted to give best accuracy\n",
    "#Parameter n : Number of features to be deleted. Features are deleted one at a time\n",
    "def feature_selector(X,Y,classifier,n=1):\n",
    "    final_list = []\n",
    "    #max_accuracy = 0\n",
    "    Xtrain = X[:int(0.8*len(X))]\n",
    "    Ytrain = Y[:int(0.8*len(Y))]\n",
    "    Xdev = X[int(0.8*len(X)):]\n",
    "    Ydev = Y[int(0.8*len(Y)):]\n",
    "    classifier.fit(Xtrain,Ytrain)\n",
    "    max_accuracy = classifier.score(Xdev,Ydev)\n",
    "    print('Default Score = ', max_accuracy)\n",
    "    features = []\n",
    "    a=0\n",
    "    for number in range(n):\n",
    "        #print('number =',number)\n",
    "        #accuracies = np.zeros(len(X[0]))\n",
    "        accuracy = 0\n",
    "        for i in range(len(Xtrain[0])):\n",
    "            if i in features:\n",
    "                #print(i, ' already in features')\n",
    "                continue\n",
    "            dummy = features.copy()\n",
    "            dummy.append(i)\n",
    "            ##print('removing', dummy)\n",
    "            new_xtrain = np.delete(Xtrain,dummy, axis=1)\n",
    "            new_xdev = np.delete(Xdev,dummy, axis=1)\n",
    "            #print('features =',len(new_xtrain[0]))\n",
    "            #new_ytrain = np.delete(Ytrain,i)\n",
    "            classifier.fit(new_xtrain,Ytrain)\n",
    "            accuracy = (classifier.score(new_xdev,Ydev))\n",
    "            ##print(accuracy)\n",
    "            if(accuracy>max_accuracy):\n",
    "                #print('better accueacy found', accuracy,' > ',max_accuracy)\n",
    "                max_accuracy = accuracy\n",
    "                final_list = dummy\n",
    "                #print('new list of features to delete', final_list)\n",
    "        features = final_list\n",
    "        if(len(features) != (number+1)):\n",
    "            print('No additional feature removal performs better')\n",
    "            print('Features to be deleted: ',features, 'Best accuracy on dev after deleting features: ', max_accuracy)\n",
    "            #print('breaking')\n",
    "            break\n",
    "        \n",
    "    return features, max_accuracy"
   ]
  },
  {
   "cell_type": "code",
   "execution_count": 1152,
   "metadata": {},
   "outputs": [
    {
     "name": "stdout",
     "output_type": "stream",
     "text": [
      "Predicting using Decision Tree\n",
      "DTree score :  0.6358024691358025\n",
      "Predicting using KNN\n",
      "KNN score :  0.6666666666666666\n",
      "Predicting using Kernel SVM\n",
      "SVC Score :  0.691358024691358\n"
     ]
    }
   ],
   "source": [
    "#Dtree\n",
    "print('Predicting using Decision Tree')\n",
    "dtree = tree.DecisionTreeClassifier()\n",
    "dtree.fit(Xtrain,Ytrain)\n",
    "score = dtree.score(Xdev,Ydev)\n",
    "print('DTree score : ',score)\n",
    "#Knn\n",
    "print('Predicting using KNN')\n",
    "knn = KNeighborsClassifier(n_neighbors=10)\n",
    "knn.fit(Xtrain,Ytrain)\n",
    "score = knn.score(Xdev,Ydev)\n",
    "print('KNN score : ',score)\n",
    "#SVC\n",
    "print('Predicting using Kernel SVM')\n",
    "svc = svc_classifier = SVC()\n",
    "svc.fit(Xtrain,Ytrain)\n",
    "score = svc.score(Xdev,Ydev)\n",
    "print('SVC Score : ', score)\n",
    "\n"
   ]
  },
  {
   "cell_type": "code",
   "execution_count": 1153,
   "metadata": {},
   "outputs": [],
   "source": [
    "# #Decision Tree Classifier\n",
    "# dtree = tree.DecisionTreeClassifier()\n",
    "# dtree.fit(Xtr,Ytr)\n",
    "# score = dtree.score(Xtest,Ytest)\n",
    "# print(score)\n"
   ]
  },
  {
   "cell_type": "code",
   "execution_count": 1154,
   "metadata": {},
   "outputs": [
    {
     "name": "stdout",
     "output_type": "stream",
     "text": [
      "Tuning Decision Tree\n",
      "Best max_depth :  2\n",
      "Accuracy on Dev data using best max_depth :  0.7469135802469136\n"
     ]
    }
   ],
   "source": [
    "#Decision Tree Tuning\n",
    "print('Tuning Decision Tree')\n",
    "best_depth = 0\n",
    "best_score = 0 \n",
    "scores =[]\n",
    "d_s = []\n",
    "for d in range(1,100):\n",
    "    dtree = tree.DecisionTreeClassifier(max_depth = d)\n",
    "    dtree.fit(Xtrain,Ytrain)\n",
    "    score = dtree.score(Xdev,Ydev)\n",
    "    scores.append(score)\n",
    "    d_s.append(d)\n",
    "    #print(score)\n",
    "    if (score>best_score):\n",
    "        best_score = score\n",
    "        best_depth = d\n",
    "\n",
    "\n",
    "print('Best max_depth : ',best_depth)\n",
    "print('Accuracy on Dev data using best max_depth : ',best_score)"
   ]
  },
  {
   "cell_type": "code",
   "execution_count": 1155,
   "metadata": {},
   "outputs": [
    {
     "name": "stdout",
     "output_type": "stream",
     "text": [
      "99\n"
     ]
    },
    {
     "data": {
      "image/png": "[encoded data removed]",
      "text/plain": [
       "<Figure size 432x288 with 1 Axes>"
      ]
     },
     "metadata": {},
     "output_type": "display_data"
    }
   ],
   "source": [
    "print(len(scores))\n",
    "plt.plot(d_s, scores)\n",
    "plt.xlabel('max_depth')\n",
    "plt.ylabel('accuracy')\n",
    "plt.title('max_depth vs. accuracy')\n",
    "plt.show()"
   ]
  },
  {
   "cell_type": "code",
   "execution_count": 1156,
   "metadata": {},
   "outputs": [
    {
     "name": "stdout",
     "output_type": "stream",
     "text": [
      "Creating DTree model using best depth\n",
      "Using feature selector\n",
      "Default Score =  0.7469135802469136\n",
      "No additional feature removal performs better\n",
      "Features to be deleted:  [] Best accuracy on dev after deleting features:  0.7469135802469136\n",
      "Transforming the Train and Test data by deleting the features\n",
      "Test Accuracy =  0.6633663366336634\n"
     ]
    }
   ],
   "source": [
    "#model\n",
    "print('Creating DTree model using best depth')\n",
    "dtree = tree.DecisionTreeClassifier(max_depth=best_depth)\n",
    "\n",
    "#Feature Selection\n",
    "print('Using feature selector')\n",
    "del_list, best_acc = feature_selector(Xtr,Ytr,dtree,n=10)\n",
    "\n",
    "print('Transforming the Train and Test data by deleting the features')\n",
    "newXtrain = np.delete(Xtr,del_list, axis=1)\n",
    "newXtest = np.delete(Xtest,del_list,axis=1)\n",
    "dtree.fit(newXtrain, Ytr)\n",
    "test_accuracy = dtree.score(newXtest,Ytest)\n",
    "print('Test Accuracy = ',test_accuracy)"
   ]
  },
  {
   "cell_type": "code",
   "execution_count": 1157,
   "metadata": {},
   "outputs": [
    {
     "name": "stdout",
     "output_type": "stream",
     "text": [
      "Tuning KNN\n",
      "Optimum k =  41\n",
      "Accuracy on Dev data using Optimum k=  0.7283950617283951\n"
     ]
    }
   ],
   "source": [
    "#KNN Tuning\n",
    "print('Tuning KNN')\n",
    "best_score = 0\n",
    "best_k = 0\n",
    "scores =[]\n",
    "k_s = []\n",
    "for k in range(1,50):\n",
    "    knn = KNeighborsClassifier(n_neighbors=k)\n",
    "    knn.fit(Xtrain,Ytrain)\n",
    "    score = (knn.score(Xdev,Ydev))\n",
    "    scores.append(score)\n",
    "    k_s.append(k)\n",
    "    if(score>best_score):\n",
    "        best_score = score\n",
    "        best_k = k\n",
    "\n",
    "#print(accuracies)\n",
    "#optimum_k = np.argmax(accuracies)+1\n",
    "print('Optimum k = ',best_k)\n",
    "print('Accuracy on Dev data using Optimum k= ',best_score)\n",
    "\n",
    "\n",
    "\n"
   ]
  },
  {
   "cell_type": "code",
   "execution_count": 1158,
   "metadata": {},
   "outputs": [
    {
     "name": "stdout",
     "output_type": "stream",
     "text": [
      "49\n"
     ]
    },
    {
     "data": {
      "image/png": "[encoded data removed]",
      "text/plain": [
       "<Figure size 432x288 with 1 Axes>"
      ]
     },
     "metadata": {},
     "output_type": "display_data"
    }
   ],
   "source": [
    "print(len(scores))\n",
    "plt.plot(k_s, scores)\n",
    "plt.xlabel('k values')\n",
    "plt.ylabel('Accuracy')\n",
    "plt.title('k values vs. accuracy')\n",
    "plt.show()"
   ]
  },
  {
   "cell_type": "code",
   "execution_count": 1159,
   "metadata": {},
   "outputs": [
    {
     "name": "stdout",
     "output_type": "stream",
     "text": [
      "Creating KNN model using optimum k\n",
      "Using feature selector\n",
      "Default Score =  0.7283950617283951\n",
      "No additional feature removal performs better\n",
      "Features to be deleted:  [79, 60, 17] Best accuracy on dev after deleting features:  0.7530864197530864\n",
      "Transforming the Train and Test data by deleting the features\n",
      "Test Accuracy =  0.7673267326732673\n"
     ]
    }
   ],
   "source": [
    "#Model\n",
    "print('Creating KNN model using optimum k')\n",
    "knn  = KNeighborsClassifier(n_neighbors=best_k)\n",
    "\n",
    "#Feature Selection\n",
    "print('Using feature selector')\n",
    "del_list, best_acc = feature_selector(Xtr,Ytr,knn,10)\n",
    "print('Transforming the Train and Test data by deleting the features')\n",
    "newXtrain = np.delete(Xtr,del_list, axis=1)\n",
    "newXtest = np.delete(Xtest,del_list,axis=1)\n",
    "knn.fit(newXtrain,Ytr)\n",
    "test_accuracy = knn.score(newXtest,Ytest)\n",
    "print('Test Accuracy = ',test_accuracy)\n",
    "\n"
   ]
  },
  {
   "cell_type": "code",
   "execution_count": null,
   "metadata": {},
   "outputs": [],
   "source": []
  },
  {
   "cell_type": "code",
   "execution_count": 1160,
   "metadata": {},
   "outputs": [
    {
     "name": "stdout",
     "output_type": "stream",
     "text": [
      "Tuning SVC\n",
      "Finding best gamma\n",
      "best gamma= 0.01\n",
      "best C =  17\n",
      "Accuracy on Dev data using best gamma and best c =  0.7530864197530864\n"
     ]
    }
   ],
   "source": [
    "#SVC Tuning\n",
    "print('Tuning SVC')\n",
    "print('Finding best gamma')\n",
    "best_gamma = 0\n",
    "best_score = 0\n",
    "scores1 =[]\n",
    "g_s = []\n",
    "arr = [0.001,0.002,0.003,0.004,0.005,0.006,0.007,0.008,0.009,0.01,0.02,0.03,0.04,0.05,0.06,0.07,0.08,0.09,0.1,0.2,0.3,0.4,0.5,0.6,0.7,0.8,0.9,1,1.1,1.2,1.3,1.4,1.5,1.6,1.7,1.8,1.9,2]\n",
    "for g in arr:\n",
    "    svc_classifier = SVC(C=3.0,gamma=g)\n",
    "    svc_classifier.fit(Xtr, Ytr)\n",
    "    score =(svc_classifier.score(Xtest,Ytest))\n",
    "    scores1.append(score)\n",
    "    g_s.append(g)\n",
    "    \n",
    "    if(score>best_score):\n",
    "        best_score = score\n",
    "        best_gamma = g\n",
    "        \n",
    "\n",
    "#print('best score = ', best_score)\n",
    "max_score = 0\n",
    "best_c = 0\n",
    "scores2 =[]\n",
    "c_s = []\n",
    "for c in range(1,101):\n",
    "    svc_classifier = SVC(C=c, gamma=best_gamma)\n",
    "    svc_classifier.fit(Xtrain, Ytrain)\n",
    "    score = svc_classifier.score(Xdev,Ydev)\n",
    "    scores2.append(score)\n",
    "    c_s.append(c)\n",
    "    if(score > max_score):\n",
    "        #print('better score found', score, 'C=',c)\n",
    "        max_score = score\n",
    "        best_c = c\n",
    "print('best gamma=', best_gamma)\n",
    "print('best C = ',best_c)\n",
    "print('Accuracy on Dev data using best gamma and best c = ', max_score)\n",
    "\n"
   ]
  },
  {
   "cell_type": "code",
   "execution_count": 1161,
   "metadata": {},
   "outputs": [
    {
     "data": {
      "image/png": "[encoded data removed]",
      "text/plain": [
       "<Figure size 432x288 with 1 Axes>"
      ]
     },
     "metadata": {},
     "output_type": "display_data"
    }
   ],
   "source": [
    "plt.plot(g_s,scores1)\n",
    "plt.xlabel('gamma values')\n",
    "plt.ylabel('Accuracy')\n",
    "plt.title('gamma values vs. accuracy')\n",
    "plt.show()\n",
    "\n"
   ]
  },
  {
   "cell_type": "code",
   "execution_count": 1162,
   "metadata": {},
   "outputs": [
    {
     "data": {
      "image/png": "[encoded data removed]",
      "text/plain": [
       "<Figure size 432x288 with 1 Axes>"
      ]
     },
     "metadata": {},
     "output_type": "display_data"
    }
   ],
   "source": [
    "plt.plot(c_s,scores2)\n",
    "plt.xlabel('c values')\n",
    "plt.ylabel('Accuracy')\n",
    "plt.title('C values vs. accuracy')\n",
    "plt.show()"
   ]
  },
  {
   "cell_type": "code",
   "execution_count": 1163,
   "metadata": {},
   "outputs": [
    {
     "name": "stdout",
     "output_type": "stream",
     "text": [
      "Using Feature Selection\n",
      "Default Score =  0.7530864197530864\n",
      "No additional feature removal performs better\n",
      "Features to be deleted:  [32, 110] Best accuracy on dev after deleting features:  0.7716049382716049\n",
      "Transforming Train and Test data\n",
      "Test Accuracy =  0.7376237623762376\n"
     ]
    }
   ],
   "source": [
    "#Model\n",
    "svc_classifier = SVC(C=best_c, gamma=best_gamma)\n",
    "print('Using Feature Selection')\n",
    "del_list, best_acc = feature_selector(Xtr,Ytr,svc_classifier,n=10)\n",
    "\n",
    "#Transforming data\n",
    "print('Transforming Train and Test data')\n",
    "newXtrain = np.delete(Xtr,del_list, axis=1)\n",
    "newXtest = np.delete(Xtest,del_list,axis=1)\n",
    "\n",
    "###\n",
    "# trainx1 = newXtrain[:int(0.8*len(newXtrain))]\n",
    "# trainy1 = Ytr[:int(0.8*len(newXtrain))]\n",
    "# devx1 = newXtrain[int(0.8*len(newXtrain)):]\n",
    "# devy1 = Ytr[int(0.8*len(newXtrain)):]\n",
    "\n",
    "# svc_classifier.fit(trainx1,trainy1)\n",
    "# predicted = svc_classifier.predict(devx1)\n",
    "# print(predicted)\n",
    "# print(devy1)\n",
    "\n",
    "# print(devx1[0])\n",
    "# print(devx1[1])\n",
    "# print(devx1[5])\n",
    "# print(devx1[7])\n",
    "\n",
    "###\n",
    "svc_classifier.fit(newXtrain, Ytr)\n",
    "\n",
    "\n",
    "test_accuracy = svc_classifier.score(newXtest,Ytest)\n",
    "print('Test Accuracy = ',test_accuracy)"
   ]
  },
  {
   "cell_type": "code",
   "execution_count": 1164,
   "metadata": {},
   "outputs": [
    {
     "name": "stdout",
     "output_type": "stream",
     "text": [
      "Saving Classifier\n"
     ]
    }
   ],
   "source": [
    "print('Saving Classifier')\n",
    "pickle.dump(svc_classifier,open('final_classifier','wb'))"
   ]
  },
  {
   "cell_type": "code",
   "execution_count": 1165,
   "metadata": {},
   "outputs": [],
   "source": [
    "del_list = np.array(del_list)\n",
    "np.save('del-features.npy',del_list)"
   ]
  },
  {
   "cell_type": "code",
   "execution_count": 1166,
   "metadata": {},
   "outputs": [
    {
     "name": "stdout",
     "output_type": "stream",
     "text": [
      "[ 32 110]\n"
     ]
    }
   ],
   "source": [
    "newl = np.load('del-features.npy')\n",
    "print(newl)"
   ]
  },
  {
   "cell_type": "code",
   "execution_count": 1167,
   "metadata": {},
   "outputs": [
    {
     "name": "stdout",
     "output_type": "stream",
     "text": [
      "Loading Classifier\n",
      "Test Accuracy =  0.7376237623762376\n"
     ]
    }
   ],
   "source": [
    "print('Loading Classifier')\n",
    "clf = pickle.load(open('final_classifier','rb'))\n",
    "#predicted_values = clf.predict(newXtest)\n",
    "\n",
    "test_accuracy = clf.score(newXtest,Ytest)\n",
    "print('Test Accuracy = ',test_accuracy)"
   ]
  },
  {
   "cell_type": "code",
   "execution_count": null,
   "metadata": {},
   "outputs": [],
   "source": []
  }
 ],
 "metadata": {
  "kernelspec": {
   "display_name": "Python 3",
   "language": "python",
   "name": "python3"
  },
  "language_info": {
   "codemirror_mode": {
    "name": "ipython",
    "version": 3
   },
   "file_extension": ".py",
   "mimetype": "text/x-python",
   "name": "python",
   "nbconvert_exporter": "python",
   "pygments_lexer": "ipython3",
   "version": "3.6.5"
  }
 },
 "nbformat": 4,
 "nbformat_minor": 2
}
